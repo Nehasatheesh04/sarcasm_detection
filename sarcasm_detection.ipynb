{
  "nbformat": 4,
  "nbformat_minor": 0,
  "metadata": {
    "colab": {
      "provenance": [],
      "mount_file_id": "16kuVqd3XTwc0Y_VYNrO-c0SWyymG1yzA",
      "authorship_tag": "ABX9TyP2OsFuLTb539Vy6YFfwKXS",
      "include_colab_link": true
    },
    "kernelspec": {
      "name": "python3",
      "display_name": "Python 3"
    },
    "language_info": {
      "name": "python"
    }
  },
  "cells": [
    {
      "cell_type": "markdown",
      "metadata": {
        "id": "view-in-github",
        "colab_type": "text"
      },
      "source": [
        "<a href=\"https://colab.research.google.com/github/Nehasatheesh04/sarcasm_detection/blob/main/sarcasm_detection.ipynb\" target=\"_parent\"><img src=\"https://colab.research.google.com/assets/colab-badge.svg\" alt=\"Open In Colab\"/></a>"
      ]
    },
    {
      "cell_type": "code",
      "source": [
        "!pip install python-docx"
      ],
      "metadata": {
        "colab": {
          "base_uri": "https://localhost:8080/"
        },
        "id": "7xaJcQcMO_GF",
        "outputId": "97b3cea6-d496-4664-b86e-28e2ea404356"
      },
      "execution_count": null,
      "outputs": [
        {
          "output_type": "stream",
          "name": "stdout",
          "text": [
            "Collecting python-docx\n",
            "  Downloading python_docx-1.1.2-py3-none-any.whl.metadata (2.0 kB)\n",
            "Requirement already satisfied: lxml>=3.1.0 in /usr/local/lib/python3.11/dist-packages (from python-docx) (5.3.1)\n",
            "Requirement already satisfied: typing-extensions>=4.9.0 in /usr/local/lib/python3.11/dist-packages (from python-docx) (4.13.0)\n",
            "Downloading python_docx-1.1.2-py3-none-any.whl (244 kB)\n",
            "\u001b[2K   \u001b[90m━━━━━━━━━━━━━━━━━━━━━━━━━━━━━━━━━━━━━━━━\u001b[0m \u001b[32m244.3/244.3 kB\u001b[0m \u001b[31m4.0 MB/s\u001b[0m eta \u001b[36m0:00:00\u001b[0m\n",
            "\u001b[?25hInstalling collected packages: python-docx\n",
            "Successfully installed python-docx-1.1.2\n"
          ]
        }
      ]
    },
    {
      "cell_type": "code",
      "source": [
        "!pip install pymupdf"
      ],
      "metadata": {
        "colab": {
          "base_uri": "https://localhost:8080/"
        },
        "id": "_pptZZaEdzl9",
        "outputId": "abf99a3b-bcd3-4db9-f952-15c3c8c7a903"
      },
      "execution_count": null,
      "outputs": [
        {
          "output_type": "stream",
          "name": "stdout",
          "text": [
            "Collecting pymupdf\n",
            "  Downloading pymupdf-1.25.5-cp39-abi3-manylinux2014_x86_64.manylinux_2_17_x86_64.whl.metadata (3.4 kB)\n",
            "Downloading pymupdf-1.25.5-cp39-abi3-manylinux2014_x86_64.manylinux_2_17_x86_64.whl (20.0 MB)\n",
            "\u001b[2K   \u001b[90m━━━━━━━━━━━━━━━━━━━━━━━━━━━━━━━━━━━━━━━━\u001b[0m \u001b[32m20.0/20.0 MB\u001b[0m \u001b[31m72.6 MB/s\u001b[0m eta \u001b[36m0:00:00\u001b[0m\n",
            "\u001b[?25hInstalling collected packages: pymupdf\n",
            "Successfully installed pymupdf-1.25.5\n"
          ]
        }
      ]
    },
    {
      "cell_type": "code",
      "source": [
        "import fitz\n",
        "import docx\n",
        "from transformers import pipeline\n",
        "\n"
      ],
      "metadata": {
        "id": "BekT1GzSdjyj"
      },
      "execution_count": null,
      "outputs": []
    },
    {
      "cell_type": "code",
      "source": [
        "\n",
        "# Loading sarcasm detection model\n",
        "sarcasm_detector = pipeline(\"text-classification\", model=\"cardiffnlp/twitter-roberta-base-irony\")"
      ],
      "metadata": {
        "colab": {
          "base_uri": "https://localhost:8080/"
        },
        "id": "YDsghA-zl5nt",
        "outputId": "3c723456-98d9-406a-9444-1118429bec7b"
      },
      "execution_count": null,
      "outputs": [
        {
          "output_type": "stream",
          "name": "stderr",
          "text": [
            "Device set to use cpu\n"
          ]
        }
      ]
    },
    {
      "cell_type": "code",
      "source": [
        "# Function to extract text from file\n",
        "def extract_text(file_path):\n",
        "    if file_path.endswith(\".pdf\"):\n",
        "        with fitz.open(file_path) as doc:\n",
        "            return \"\\n\".join([page.get_text() for page in doc])\n",
        "    elif file_path.endswith(\".docx\"):\n",
        "        return \"\\n\".join([para.text for para in docx.Document(file_path).paragraphs])\n",
        "    elif file_path.endswith(\".txt\"):\n",
        "        with open(file_path, \"r\", encoding=\"utf-8\") as file:\n",
        "            return file.read()\n",
        "    else:\n",
        "        return \"Unsupported file format. Please upload a .pdf, .docx, or .txt file.\"\n",
        "\n",
        "\n"
      ],
      "metadata": {
        "id": "uUwZTndhe_sK"
      },
      "execution_count": null,
      "outputs": []
    },
    {
      "cell_type": "code",
      "source": [
        "# Read file and detect sarcasm\n",
        "file_path = input(\"Enter the file path: \")\n",
        "text = extract_text(file_path)\n",
        "\n",
        "if \"Unsupported\" not in text:\n",
        "    sentences = text.split(\"\\n\")\n",
        "\n",
        "    for sentence in sentences:\n",
        "        if sentence.strip():\n",
        "            result = sarcasm_detector(sentence)\n",
        "            print(f\"{sentence} -> {result}\\n\")  # Added newline for spacing\n",
        "\n",
        "else:\n",
        "    print(text)\n"
      ],
      "metadata": {
        "colab": {
          "base_uri": "https://localhost:8080/"
        },
        "id": "Wk0c_ZkomUAx",
        "outputId": "9b033b3c-e2ce-4da3-aff4-f8e488dfbf1e"
      },
      "execution_count": null,
      "outputs": [
        {
          "output_type": "stream",
          "name": "stdout",
          "text": [
            "Enter the file path: /content/sarcasm.pdf\n",
            "Oh great, another Monday morning meeting. Just what I needed! -> [{'label': 'irony', 'score': 0.9875847697257996}]\n",
            "\n",
            "I finally get to enjoy my weekend after a long week of work. -> [{'label': 'irony', 'score': 0.8373420238494873}]\n",
            "\n",
            "Absolutely love when my phone dies in the middle of an important call! -> [{'label': 'irony', 'score': 0.9710243940353394}]\n",
            "\n",
            "Had a peaceful walk by the lake this evening. -> [{'label': 'non_irony', 'score': 0.5828889608383179}]\n",
            "\n",
            "Wow, my internet is incredibly fast today… buffering every two seconds. -> [{'label': 'irony', 'score': 0.9288861155509949}]\n",
            "\n",
            "Spent quality time with my family, and we had a great conversation. -> [{'label': 'non_irony', 'score': 0.9150159358978271}]\n",
            "\n",
            "Amazing! Another traffic jam just when I’m running late. -> [{'label': 'irony', 'score': 0.9747899770736694}]\n",
            "\n",
            "I had a fantastic vacation, and it was so refreshing. -> [{'label': 'irony', 'score': 0.7060303688049316}]\n",
            "\n",
            "Oh wonderful! The printer is out of ink again right when I need to print my report. -> [{'label': 'irony', 'score': 0.9824153780937195}]\n",
            "\n",
            "My best friend’s birthday party was amazing. I had so much fun! -> [{'label': 'non_irony', 'score': 0.7654248476028442}]\n",
            "\n",
            "Just perfect! My coffee spilled all over my notes minutes before my presentation. -> [{'label': 'irony', 'score': 0.959068775177002}]\n",
            "\n",
            "The view from the mountaintop was breathtaking. -> [{'label': 'non_irony', 'score': 0.5678516626358032}]\n",
            "\n",
            "Oh sure, I just love waking up to construction noises outside my window. -> [{'label': 'irony', 'score': 0.988419771194458}]\n",
            "\n",
            "Had a productive day at work, finished all my tasks on time. -> [{'label': 'irony', 'score': 0.9622085094451904}]\n",
            "\n",
            "Great! Missed the train again. I really wanted to wait another 30 minutes in the  -> [{'label': 'irony', 'score': 0.9673593044281006}]\n",
            "\n",
            "cold. -> [{'label': 'non_irony', 'score': 0.5843364000320435}]\n",
            "\n",
            "I finally finished reading my favorite novel, and it was worth it. -> [{'label': 'non_irony', 'score': 0.6030246019363403}]\n",
            "\n",
            "Wow, nothing like getting stuck in an elevator to brighten my day. -> [{'label': 'irony', 'score': 0.9881019592285156}]\n",
            "\n",
            "I love spending my Sundays relaxing with a good book. -> [{'label': 'irony', 'score': 0.880776047706604}]\n",
            "\n",
            "Oh, brilliant! The restaurant lost my reservation on a busy night. -> [{'label': 'irony', 'score': 0.9709912538528442}]\n",
            "\n",
            "I finally tried that new restaurant, and the food was absolutely delicious. -> [{'label': 'non_irony', 'score': 0.6329514384269714}]\n",
            "\n",
            "Fantastic! My flight got delayed for three hours. Just what I needed. -> [{'label': 'irony', 'score': 0.9794741272926331}]\n",
            "\n",
            "I really enjoyed the concert last night. The music was incredible! -> [{'label': 'non_irony', 'score': 0.8533319234848022}]\n",
            "\n",
            "Oh, I just love getting unexpected work emails late at night. -> [{'label': 'irony', 'score': 0.9904693961143494}]\n",
            "\n",
            "The sunset on the beach was absolutely stunning. -> [{'label': 'irony', 'score': 0.672557532787323}]\n",
            "\n",
            "Perfect! The grocery store is out of everything I came to buy. -> [{'label': 'irony', 'score': 0.778958261013031}]\n",
            "\n",
            "I completed my workout routine, and I feel great! -> [{'label': 'non_irony', 'score': 0.6736540198326111}]\n",
            "\n",
            "Oh sure, because waiting in long lines is my favorite hobby. -> [{'label': 'irony', 'score': 0.9913128018379211}]\n",
            "\n",
            "The homemade cookies turned out delicious! -> [{'label': 'non_irony', 'score': 0.734205961227417}]\n",
            "\n",
            "How lovely! My neighbor’s dog won’t stop barking at 2 AM. -> [{'label': 'irony', 'score': 0.9673867225646973}]\n",
            "\n",
            "Had a great time catching up with an old friend over coffee. -> [{'label': 'non_irony', 'score': 0.6586081981658936}]\n",
            "\n"
          ]
        }
      ]
    }
  ]
}